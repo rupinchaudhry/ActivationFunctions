{
  "nbformat": 4,
  "nbformat_minor": 0,
  "metadata": {
    "colab": {
      "provenance": [],
      "gpuType": "T4",
      "authorship_tag": "ABX9TyPo+oGVVvjLcYXeUInWlC7h",
      "include_colab_link": true
    },
    "kernelspec": {
      "name": "python3",
      "display_name": "Python 3"
    },
    "language_info": {
      "name": "python"
    },
    "accelerator": "GPU"
  },
  "cells": [
    {
      "cell_type": "markdown",
      "metadata": {
        "id": "view-in-github",
        "colab_type": "text"
      },
      "source": [
        "<a href=\"https://colab.research.google.com/github/rupinchaudhry/ActivationFunctions/blob/main/ANNusngCUDA.ipynb\" target=\"_parent\"><img src=\"https://colab.research.google.com/assets/colab-badge.svg\" alt=\"Open In Colab\"/></a>"
      ]
    },
    {
      "cell_type": "code",
      "execution_count": 1,
      "metadata": {
        "id": "ZN9oryqKyAXr"
      },
      "outputs": [],
      "source": [
        "import numpy as np\n",
        "import torch\n",
        "import torch.nn as nn\n",
        "import torch.nn.functional as F\n",
        "from torch.utils.data import Dataset, DataLoader\n",
        "from sklearn.model_selection import train_test_split\n",
        "import pandas as pd\n",
        "import matplotlib.pyplot as plt\n",
        "\n"
      ]
    },
    {
      "cell_type": "code",
      "source": [
        "import time"
      ],
      "metadata": {
        "id": "YA5jUJn3Fdt3"
      },
      "execution_count": 16,
      "outputs": []
    },
    {
      "cell_type": "code",
      "source": [
        "torch.cuda.is_available()"
      ],
      "metadata": {
        "colab": {
          "base_uri": "https://localhost:8080/"
        },
        "id": "ILuuHTtwzHlD",
        "outputId": "9e0e6c95-b18e-4eb3-d2a4-ff0fdc00354f"
      },
      "execution_count": 2,
      "outputs": [
        {
          "output_type": "execute_result",
          "data": {
            "text/plain": [
              "True"
            ]
          },
          "metadata": {},
          "execution_count": 2
        }
      ]
    },
    {
      "cell_type": "code",
      "source": [
        "torch.cuda.current_device()\n"
      ],
      "metadata": {
        "id": "05vqEK6ayHj2",
        "colab": {
          "base_uri": "https://localhost:8080/"
        },
        "outputId": "1af15fb7-a6d5-4f82-8b8c-86ce9ebec2ee"
      },
      "execution_count": 3,
      "outputs": [
        {
          "output_type": "execute_result",
          "data": {
            "text/plain": [
              "0"
            ]
          },
          "metadata": {},
          "execution_count": 3
        }
      ]
    },
    {
      "cell_type": "code",
      "source": [
        "torch.cuda.get_device_name(0)"
      ],
      "metadata": {
        "id": "vcfS6WEZzGXr",
        "colab": {
          "base_uri": "https://localhost:8080/",
          "height": 35
        },
        "outputId": "6f17f0f3-7376-4d99-c66a-e9932bcebba8"
      },
      "execution_count": 4,
      "outputs": [
        {
          "output_type": "execute_result",
          "data": {
            "text/plain": [
              "'Tesla T4'"
            ],
            "application/vnd.google.colaboratory.intrinsic+json": {
              "type": "string"
            }
          },
          "metadata": {},
          "execution_count": 4
        }
      ]
    },
    {
      "cell_type": "code",
      "source": [
        "a=torch.FloatTensor([1.9, 2.7]).cuda()"
      ],
      "metadata": {
        "id": "xQqPmHuTyLjM"
      },
      "execution_count": 5,
      "outputs": []
    },
    {
      "cell_type": "code",
      "source": [
        "a.device"
      ],
      "metadata": {
        "id": "YDL3gKuGybkW",
        "colab": {
          "base_uri": "https://localhost:8080/"
        },
        "outputId": "f3f42618-1656-4798-f76f-d7520471042d"
      },
      "execution_count": 6,
      "outputs": [
        {
          "output_type": "execute_result",
          "data": {
            "text/plain": [
              "device(type='cuda', index=0)"
            ]
          },
          "metadata": {},
          "execution_count": 6
        }
      ]
    },
    {
      "cell_type": "code",
      "source": [
        "torch.cuda.memory_allocated()"
      ],
      "metadata": {
        "colab": {
          "base_uri": "https://localhost:8080/"
        },
        "id": "c6CCZfYK6qMe",
        "outputId": "5e7535fc-71d9-446e-f013-d233a2971504"
      },
      "execution_count": 7,
      "outputs": [
        {
          "output_type": "execute_result",
          "data": {
            "text/plain": [
              "512"
            ]
          },
          "metadata": {},
          "execution_count": 7
        }
      ]
    },
    {
      "cell_type": "code",
      "source": [
        "class Model(nn.Module):\n",
        "    def __init__(self, in_features=4, h1=8, h2=9, out_features=3):\n",
        "        super().__init__()\n",
        "        self.fc1 = nn.Linear(in_features,h1)    # input layer\n",
        "        self.fc2 = nn.Linear(h1, h2)            # hidden layer\n",
        "        self.out = nn.Linear(h2, out_features)  # output layer\n",
        "\n",
        "    def forward(self, x):\n",
        "        x = F.relu(self.fc1(x))\n",
        "        x = F.relu(self.fc2(x))\n",
        "        x = self.out(x)\n",
        "        return x"
      ],
      "metadata": {
        "id": "y3Ipa2Y_6_JI"
      },
      "execution_count": 8,
      "outputs": []
    },
    {
      "cell_type": "code",
      "source": [
        "df = pd.read_csv('iris.csv')\n",
        "X = df.drop('target',axis=1).values\n",
        "y = df['target'].values\n",
        "X_train, X_test, y_train, y_test = train_test_split(X,y,test_size=0.2,random_state=33)\n",
        "X_train = torch.FloatTensor(X_train).cuda()\n",
        "X_test = torch.FloatTensor(X_test).cuda()\n",
        "y_train = torch.LongTensor(y_train).cuda()\n",
        "y_test = torch.LongTensor(y_test).cuda()\n",
        "trainloader = DataLoader(X_train, batch_size=60, shuffle=True, pin_memory=True)\n",
        "testloader = DataLoader(X_test, batch_size=60, shuffle=False, pin_memory=True)\n",
        "labels = ['Iris setosa','Iris virginica','Iris versicolor','Mystery iris']"
      ],
      "metadata": {
        "id": "lyzF1eXM7umN"
      },
      "execution_count": 10,
      "outputs": []
    },
    {
      "cell_type": "code",
      "source": [
        "model=Model()"
      ],
      "metadata": {
        "id": "CIL-MXtFFDfr"
      },
      "execution_count": 12,
      "outputs": []
    },
    {
      "cell_type": "code",
      "source": [
        "gpumodel=model.cuda()"
      ],
      "metadata": {
        "id": "zhW7nHUc8XFQ"
      },
      "execution_count": 13,
      "outputs": []
    },
    {
      "cell_type": "code",
      "source": [
        "next(gpumodel.parameters()).is_cuda"
      ],
      "metadata": {
        "colab": {
          "base_uri": "https://localhost:8080/"
        },
        "id": "j1ApEVUw8ouf",
        "outputId": "b45a6249-f7b9-4c91-dfe1-7509edde8135"
      },
      "execution_count": 14,
      "outputs": [
        {
          "output_type": "execute_result",
          "data": {
            "text/plain": [
              "True"
            ]
          },
          "metadata": {},
          "execution_count": 14
        }
      ]
    },
    {
      "cell_type": "code",
      "source": [
        "criterion = nn.CrossEntropyLoss()\n",
        "optimizer = torch.optim.Adam(model.parameters(), lr=0.01)"
      ],
      "metadata": {
        "id": "Xk39A0eZ8zgP"
      },
      "execution_count": 15,
      "outputs": []
    },
    {
      "cell_type": "code",
      "source": [
        "start = time.time()\n",
        "#Train the model\n",
        "epochs = 100\n",
        "losses = []\n",
        "for i in range(epochs):\n",
        "    i+=1\n",
        "    y_pred = gpumodel.forward(X_train)\n",
        "    loss = criterion(y_pred, y_train)\n",
        "    losses.append(loss)\n",
        "    if i%10 == 1:\n",
        "        print(f'epoch: {i:2}  loss: {loss.item():10.8f}')\n",
        "    optimizer.zero_grad()\n",
        "    loss.backward()\n",
        "    optimizer.step()\n",
        "\n",
        "end = time.time()-start\n",
        "print(f\"Total time {end:10.8f}\")"
      ],
      "metadata": {
        "id": "4JHZ8pc3-Taj",
        "colab": {
          "base_uri": "https://localhost:8080/"
        },
        "outputId": "108d1dc6-761c-43e7-a8f6-631b062db76b"
      },
      "execution_count": 18,
      "outputs": [
        {
          "output_type": "stream",
          "name": "stdout",
          "text": [
            "epoch:  1  loss: 1.21604645\n",
            "epoch: 11  loss: 0.89636081\n",
            "epoch: 21  loss: 0.63588256\n",
            "epoch: 31  loss: 0.42575309\n",
            "epoch: 41  loss: 0.29078001\n",
            "epoch: 51  loss: 0.18543366\n",
            "epoch: 61  loss: 0.12307261\n",
            "epoch: 71  loss: 0.09296677\n",
            "epoch: 81  loss: 0.07825471\n",
            "epoch: 91  loss: 0.07031446\n",
            "Total time 0.73461652\n"
          ]
        }
      ]
    },
    {
      "cell_type": "code",
      "source": [
        "#Evaluate the model\n",
        "correct = 0\n",
        "with torch.no_grad():\n",
        "    for i,data in enumerate(X_test):\n",
        "        y_val = gpumodel.forward(data)\n",
        "        print(f'{i+1:2}. {str(y_val):38}  {y_test[i]}')\n",
        "        if y_val.argmax().item() == y_test[i]:\n",
        "            correct += 1\n",
        "print(f'\\n{correct} out of {len(y_test)} = {100*correct/len(y_test):.2f}% correct')"
      ],
      "metadata": {
        "colab": {
          "base_uri": "https://localhost:8080/"
        },
        "id": "FltXu3yuF51w",
        "outputId": "952fcb05-1147-4c94-ac3f-03c2534421f3"
      },
      "execution_count": 19,
      "outputs": [
        {
          "output_type": "stream",
          "name": "stdout",
          "text": [
            " 1. tensor([-3.5895,  3.5867, -1.3547], device='cuda:0')  1\n",
            " 2. tensor([-2.2683,  4.6146, -2.8134], device='cuda:0')  1\n",
            " 3. tensor([ 13.5709,   8.3669, -14.4077], device='cuda:0')  0\n",
            " 4. tensor([-5.1572,  3.4121, -0.4987], device='cuda:0')  1\n",
            " 5. tensor([-11.8691,   0.9443,   4.5598], device='cuda:0')  2\n",
            " 6. tensor([-18.0286,  -0.8398,   8.7772], device='cuda:0')  2\n",
            " 7. tensor([ 12.9466,   8.3620, -13.9767], device='cuda:0')  0\n",
            " 8. tensor([ 15.1183,   9.2150, -15.9434], device='cuda:0')  0\n",
            " 9. tensor([-11.5523,   1.3602,   4.0490], device='cuda:0')  2\n",
            "10. tensor([-13.9034,   0.8091,   5.5644], device='cuda:0')  2\n",
            "11. tensor([-15.3145,   0.2973,   6.6197], device='cuda:0')  2\n",
            "12. tensor([ 13.4475,   8.1616, -14.1536], device='cuda:0')  0\n",
            "13. tensor([-14.9512,   0.2268,   6.5068], device='cuda:0')  2\n",
            "14. tensor([-5.9921,  2.9956,  0.2106], device='cuda:0')  1\n",
            "15. tensor([-10.6659,   1.8166,   3.2899], device='cuda:0')  2\n",
            "16. tensor([-2.3726,  4.3498, -2.5345], device='cuda:0')  1\n",
            "17. tensor([-8.7627,  2.0121,  2.2713], device='cuda:0')  2\n",
            "18. tensor([ 15.3227,   9.3440, -16.1622], device='cuda:0')  0\n",
            "19. tensor([-5.6540,  3.3575, -0.2642], device='cuda:0')  1\n",
            "20. tensor([-12.1619,   1.6275,   4.0883], device='cuda:0')  2\n",
            "21. tensor([ 14.3323,   8.7301, -15.1077], device='cuda:0')  0\n",
            "22. tensor([ 15.9953,   9.8589, -16.9677], device='cuda:0')  0\n",
            "23. tensor([-15.4188,   0.0326,   6.8986], device='cuda:0')  2\n",
            "24. tensor([ 14.2340,   8.6279, -14.9632], device='cuda:0')  0\n",
            "25. tensor([-10.1094,   1.2611,   3.5448], device='cuda:0')  2\n",
            "26. tensor([-8.7038,  2.0439,  2.2326], device='cuda:0')  2\n",
            "27. tensor([-5.1879,  3.3035, -0.4115], device='cuda:0')  1\n",
            "28. tensor([-1.6362,  4.3860, -2.8846], device='cuda:0')  1\n",
            "29. tensor([-10.8726,   1.5500,   3.6020], device='cuda:0')  2\n",
            "30. tensor([-10.7512,   1.3125,   3.7404], device='cuda:0')  2\n",
            "\n",
            "30 out of 30 = 100.00% correct\n"
          ]
        }
      ]
    },
    {
      "cell_type": "code",
      "source": [],
      "metadata": {
        "id": "PSbviY13Gmbm"
      },
      "execution_count": null,
      "outputs": []
    }
  ]
}